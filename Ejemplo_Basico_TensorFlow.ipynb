{
 "cells": [
  {
   "cell_type": "markdown",
   "metadata": {},
   "source": [
    "# Ejemplo básico con TensorFlow 2.0\n",
    "\n",
    "En este ejercicio vamos a recrear nuestro algoritmo de aprendizaje utilizando TF 2."
   ]
  },
  {
   "cell_type": "markdown",
   "metadata": {},
   "source": [
    "## Importar las librerías relevantes"
   ]
  },
  {
   "cell_type": "code",
   "execution_count": 291,
   "metadata": {
    "tags": []
   },
   "outputs": [],
   "source": [
    "import numpy as np\n",
    "import plotly.express as px\n",
    "import matplotlib.pyplot as plt\n",
    "from sklearn.model_selection import KFold\n",
    "import tensorflow as tf"
   ]
  },
  {
   "cell_type": "markdown",
   "metadata": {},
   "source": [
    "## Generación de datos\n",
    "\n",
    "Se generan los datos de la misma manera que lo hicimos en el ejercicio anterior.  La única diferencia es que ahora se guardan los datos en un archivo *.npz*.  NPZ es un tipo de archivo propio de NumPy que permite guardar arreglos NumPy.  Se introduce este cambio porque en el ML a menudo:\n",
    "\n",
    "* se reciben datos (csv, base de datos, etc.)\n",
    "* se preprocesan los datos y se dejan en un formato deseado (se verá este tema después)\n",
    "* Tensorflow a menudo no trabaja bien con estos, después de todo trabaja con tensores\n",
    "* se guardan los datos en archivos npz (si es que se está trabajando con Python) para uso posterior \n",
    "\n",
    "No hay nada especial de todo esto.  Solo se guardan arreglos NumPy en un archivo re-utlizable y ya vimos que ya que los  tensores se manejan en format de arreglos de orden N.\n",
    "\n",
    "Se trabajará con dos variables de entrada, x1 y x2.  Estas se generan al azar a partir de una distribución uniforme.\n",
    "\n",
    "Se creará una matriz con estas dos variables.  La matriz X del modelo lineal y = x * w + b"
   ]
  },
  {
   "cell_type": "code",
   "execution_count": 292,
   "metadata": {},
   "outputs": [],
   "source": [
    "# Por facilidad, declaramos una variable que indique el tamaño del conjunto \n",
    "#      de datos de entrenamiento.\n",
    "observaciones = 1000\n",
    "\n",
    "x1 = np.random.uniform(low = -10, high = 10, size = (observaciones,1))\n",
    "x2 = np.random.uniform(-10, 10, (observaciones,1)) # nótese que no se requieren las palabras clave\n",
    "\n",
    "X = np.column_stack((x1,x2))"
   ]
  },
  {
   "cell_type": "markdown",
   "metadata": {},
   "source": [
    "### Generar las metas a las que debemos apuntar\n",
    "\n",
    "La función a usar: \n",
    "\n",
    "f(x1, x2) = 2 * x1 - 3 * x2 + 5 + <ruido pequeño>\n",
    "\n",
    "El ruido es para hacerlo más realista.\n",
    "\n",
    "En esencia, se puede ver que los pesos serán 2 y -3, y es sesgo es 5\n",
    "\n",
    "Utilizando la metodología de ML, se vé si el algoritmo ha aprendido la función. "
   ]
  },
  {
   "cell_type": "code",
   "execution_count": 293,
   "metadata": {},
   "outputs": [],
   "source": [
    "ruido = np.random.uniform(-1, 1, (observaciones,1))\n",
    "y = 2 * x1 - 3 * x2 + 5 + ruido"
   ]
  },
  {
   "cell_type": "markdown",
   "metadata": {},
   "source": [
    "Hasta ahora todo ha sido igual.  El siguiente paso sí es nuevo y es que se guarda la información en un archivo *.npz* que se ha denominado \"Datos_TF)"
   ]
  },
  {
   "cell_type": "code",
   "execution_count": 294,
   "metadata": {},
   "outputs": [],
   "source": [
    "np.savez('Datos_TF', entradas = X, targets = y)  # nótese que se puede usar cualquier nombre"
   ]
  },
  {
   "cell_type": "markdown",
   "metadata": {},
   "source": [
    "## Resolver con TensorFlow\n",
    "\n",
    "<i/>Nota: Esta introducción de TensorFloe es muy básica.  El TF tiene muchas más capacidaded y profundidad que esto.<i>"
   ]
  },
  {
   "cell_type": "code",
   "execution_count": 295,
   "metadata": {},
   "outputs": [],
   "source": [
    "# Se cargan los datos desde el archivo NPZ.  Por supuesto, esto no era necesario acá\n",
    "datos = np.load('Datos_TF.npz')"
   ]
  },
  {
   "cell_type": "markdown",
   "metadata": {},
   "source": [
    "En el ejercicio anterior se tuvieron que dar valores iniciales, acá solo se dan:\n",
    "\n",
    "1.  El número de variables de entrada\n",
    "2.  El número de salidas que tenemos"
   ]
  },
  {
   "cell_type": "code",
   "execution_count": 296,
   "metadata": {},
   "outputs": [],
   "source": [
    "tamanio_entrada = 2\n",
    "tamanio_salida = 1"
   ]
  },
  {
   "cell_type": "markdown",
   "metadata": {},
   "source": [
    "### Describir el modelo\n",
    "\n",
    "En otras aplicaciones simplemente se usa un modelo que ya se haya hecho.  Con TensorFlow hay que armarlo\n",
    "\n",
    "Como el ejemplo es muy simple...es lineal...se utiliza el método **\"Sequential\"**\n",
    "\n",
    "Nótese que no se pide cálculo alguno - solo se describe la red\n",
    "\n",
    "Acá se debe listar cada capa \"layer\" de la red neuronal\n",
    "\n",
    "El método **\"Dense\"** realiza una operación matemática **.dot(u, v) + z**.  Esto es exactamente lo que que se necesita: (xw + b)\n",
    "\n",
    "El único parámetro necesario es el tamaño de la salida **tamanio_salida** en el código\n",
    "\n",
    "Hay otros parámetros que se pueden incluir para particularizar el modelo, en este caso, se está tratando de crear una solución que sea tan parecida a la del modelo NumPy anterior por lo que se agregan:\n",
    "\n",
    "* kernel_initializer   -   kernel es un término más generalizado para los pesos\n",
    "* bias_initializer     -   sesgo"
   ]
  },
  {
   "cell_type": "code",
   "execution_count": 297,
   "metadata": {},
   "outputs": [],
   "source": [
    "modelo = tf.keras.Sequential([\n",
    "                            tf.keras.layers.Dense(tamanio_salida,\n",
    "                                                 kernel_initializer = tf.random_uniform_initializer(minval = -0.1, maxval = 0.1),\n",
    "                                                 bias_initializer = tf.random_uniform_initializer(minval = -0.1, maxval = 0.1)\n",
    "                                                 )\n",
    "                            ])"
   ]
  },
  {
   "cell_type": "markdown",
   "metadata": {},
   "source": [
    "También se puede definir un optimizador a la medida, en el que se puede especificar la tasa de aprendizaje. De los que hay disponibles, el SGD (Stochastic Gradient Descent) es una generalización de la que se platicó en clase, sin darle nombre."
   ]
  },
  {
   "cell_type": "code",
   "execution_count": 298,
   "metadata": {},
   "outputs": [],
   "source": [
    "optimizador_adhoc = tf.keras.optimizers.SGD(learning_rate = 0.02)"
   ]
  },
  {
   "cell_type": "markdown",
   "metadata": {},
   "source": [
    "Para la función de pérdida, se utilizará la de **L2-norm**.  Esta también se conoce como **Least sum of squares (Least sum of squares error)**.  El escalamiento se logra obteniendo la media para el # de observaciones.  Esto es justamente lo que hace el **mean squared error**\n",
    "\n",
    "En algún momento, podría ser necesario una función de pérdida hecha a la medida.  Eso es mucho más difícil implementar y no se trabajará en este curso."
   ]
  },
  {
   "cell_type": "markdown",
   "metadata": {},
   "source": [
    "**\"compile\"** es donde se pueden indicar los optimizadores y la pérdida."
   ]
  },
  {
   "cell_type": "code",
   "execution_count": 299,
   "metadata": {},
   "outputs": [],
   "source": [
    "modelo.compile(optimizer = optimizador_adhoc, loss='mean_squared_error')"
   ]
  },
  {
   "cell_type": "markdown",
   "metadata": {},
   "source": [
    "Finalmente, se ajusta el modelo con los datos (o se modelan los datos), indicando las *entradas* y los *targets*...así se denominaron al guardar el archivo.  \n",
    "\n",
    "En vez de usar el término *iteraciones*, se utiliza el término *épocas*.  Si no se especifica el número de épocas este será 1 (una sola época de entrenamiento), así que este número es algo obligatorio.\n",
    "\n",
    "El parámetro **\"verbose\"** se refiere a cuánta información queremos que despliegue durante la ejecución.  Se vale probar diferentes números...se prueban los valores 0, 1 y 2"
   ]
  },
  {
   "cell_type": "code",
   "execution_count": 300,
   "metadata": {},
   "outputs": [
    {
     "data": {
      "text/plain": [
       "<keras.src.callbacks.history.History at 0x239f91a2b10>"
      ]
     },
     "execution_count": 300,
     "metadata": {},
     "output_type": "execute_result"
    }
   ],
   "source": [
    "modelo.fit(datos['entradas'], datos['targets'], epochs = 100, verbose = 0)"
   ]
  },
  {
   "cell_type": "markdown",
   "metadata": {
    "tags": []
   },
   "source": [
    "## Extracción de los pesos y sesgos\n",
    "\n",
    "La extracción de el(los) peso(s) y sesgo(s) de un modelo no es un paso esencial para el proceso de ML.  De hecho, en un contexto de aprendizaje profundo, no da mucha información útil.  Sin embargo, este ejemplo simple se armó de tal forma que permite verificar si las respuestas que da el modelo son correctas."
   ]
  },
  {
   "cell_type": "code",
   "execution_count": 301,
   "metadata": {},
   "outputs": [
    {
     "data": {
      "text/plain": [
       "[array([[ 2.0101447],\n",
       "        [-3.0063775]], dtype=float32),\n",
       " array([4.9827294], dtype=float32)]"
      ]
     },
     "execution_count": 301,
     "metadata": {},
     "output_type": "execute_result"
    }
   ],
   "source": [
    "modelo.layers[0].get_weights()    # el cero (0) es porque solo tenemos una capa"
   ]
  },
  {
   "cell_type": "markdown",
   "metadata": {},
   "source": [
    "Se pueden almacenar los pesos y los sesgos en variables diferentes para facilitar la revisión.\n",
    "\n",
    "OJO!   Pueden haber cientos o miles de estos!!!!"
   ]
  },
  {
   "cell_type": "code",
   "execution_count": 302,
   "metadata": {},
   "outputs": [
    {
     "data": {
      "text/plain": [
       "array([[ 2.0101447],\n",
       "       [-3.0063775]], dtype=float32)"
      ]
     },
     "execution_count": 302,
     "metadata": {},
     "output_type": "execute_result"
    }
   ],
   "source": [
    "pesos = modelo.layers[0].get_weights()[0]\n",
    "pesos"
   ]
  },
  {
   "cell_type": "code",
   "execution_count": 303,
   "metadata": {},
   "outputs": [
    {
     "data": {
      "text/plain": [
       "array([4.9827294], dtype=float32)"
      ]
     },
     "execution_count": 303,
     "metadata": {},
     "output_type": "execute_result"
    }
   ],
   "source": [
    "sesgos = modelo.layers[0].get_weights()[1]\n",
    "sesgos"
   ]
  },
  {
   "cell_type": "markdown",
   "metadata": {},
   "source": [
    "## Hacer predicciones\n",
    "\n",
    "Una vez más, este no es un paso esencial, sin embargo, generalmente sí se desean hacer predicciones.\n",
    "\n",
    "Se puede pedirle al modelo que prediga nuevos valores.  A veces es útil redondear los valores para que la salida sea más legible.  \n",
    "\n",
    "Generalmente se utiliza este método con DATOS NUEVOS, en vez de usar los datos de entrenamiento originales."
   ]
  },
  {
   "cell_type": "code",
   "execution_count": 304,
   "metadata": {},
   "outputs": [
    {
     "data": {
      "text/plain": [
       "array([[ -0.5],\n",
       "       [ 25.6],\n",
       "       [  3.4],\n",
       "       [ -1.7],\n",
       "       [-19.3]], dtype=float32)"
      ]
     },
     "execution_count": 304,
     "metadata": {},
     "output_type": "execute_result"
    }
   ],
   "source": [
    "modelo.predict_on_batch(datos['entradas']).round(1)[:5, :]"
   ]
  },
  {
   "cell_type": "markdown",
   "metadata": {},
   "source": [
    "Si se despliegan la metas (valores reales), se pueden comparar visualmente con las predicciones."
   ]
  },
  {
   "cell_type": "code",
   "execution_count": 305,
   "metadata": {},
   "outputs": [
    {
     "data": {
      "text/plain": [
       "array([[ -0.5],\n",
       "       [ 26.3],\n",
       "       [  2.6],\n",
       "       [ -1.1],\n",
       "       [-19.1]])"
      ]
     },
     "execution_count": 305,
     "metadata": {},
     "output_type": "execute_result"
    }
   ],
   "source": [
    "datos['targets'].round(1)[:5, :]"
   ]
  },
  {
   "cell_type": "markdown",
   "metadata": {},
   "source": [
    "## Graficar los datos\n",
    "\n",
    "El modelo está ya optimizado, por lo que las salidas se han calculado sobre la última forma, o el último estado, del modelo.\n",
    "\n",
    "Es necesario comprimir o empacar **\"squeeze\"** los arreglos para dejarlos en un formato que es el esperado por la función graficadora.  No cambia nada ya que se dejaron dimensiones de tamaño 1 - solo es un tecnisismo"
   ]
  },
  {
   "cell_type": "markdown",
   "metadata": {},
   "source": [
    "### Con matplotlib"
   ]
  },
  {
   "cell_type": "code",
   "execution_count": 306,
   "metadata": {},
   "outputs": [
    {
     "data": {
      "image/png": "[encoded data removed]",
      "text/plain": [
       "<Figure size 640x480 with 1 Axes>"
      ]
     },
     "metadata": {},
     "output_type": "display_data"
    }
   ],
   "source": [
    "plt.plot(np.squeeze(modelo.predict_on_batch(datos['entradas'])), \n",
    "         np.squeeze(datos['targets']))\n",
    "plt.xlabel('predicciones')\n",
    "plt.ylabel('metas')\n",
    "plt.show()"
   ]
  },
  {
   "cell_type": "markdown",
   "metadata": {},
   "source": [
    "### Con Plotly Express"
   ]
  },
  {
   "cell_type": "code",
   "execution_count": 307,
   "metadata": {},
   "outputs": [
    {
     "data": {
      "application/vnd.plotly.v1+json": {
       "config": {
        "plotlyServerURL": "https://plot.ly"
       },
       "data": [
        {
         "hovertemplate": "x=%{x}<br>y=%{y}<extra></extra>",
         "legendgroup": "",
         "marker": {
          "color": "#636efa",
          "symbol": "circle"
         },
         "mode": "markers",
         "name": "",
         "orientation": "v",
         "showlegend": false,
         "type": "scatter",
         "x": [
          -0.46347951889038086,
          25.58967399597168,
          3.3869590759277344,
          -1.682055950164795,
          -19.31719207763672,
          17.416568756103516,
          23.0067195892334,
          -27.72859764099121,
          30.57447624206543,
          45.05091094970703,
          -34.971370697021484,
          7.765655517578125,
          34.08070373535156,
          -7.046245098114014,
          -14.88728141784668,
          -25.244810104370117,
          4.628482341766357,
          -19.504491806030273,
          -1.7592973709106445,
          5.061728477478027,
          2.8101494312286377,
          -19.34681510925293,
          -26.710729598999023,
          -19.0383243560791,
          32.48143005371094,
          -19.39698600769043,
          5.680037021636963,
          -24.507532119750977,
          -39.72223663330078,
          21.651838302612305,
          15.864349365234375,
          18.989830017089844,
          -14.847747802734375,
          -9.497528076171875,
          -8.353422164916992,
          9.11638069152832,
          7.690800189971924,
          42.26218032836914,
          21.855697631835938,
          -17.940710067749023,
          15.96392822265625,
          1.8201806545257568,
          18.65462303161621,
          -15.411518096923828,
          9.82784652709961,
          8.136897087097168,
          15.781881332397461,
          20.340229034423828,
          11.840497970581055,
          27.728086471557617,
          -27.27768898010254,
          -42.342769622802734,
          -7.201745510101318,
          27.038827896118164,
          -10.14195442199707,
          17.140291213989258,
          18.484786987304688,
          24.97185707092285,
          -17.061243057250977,
          30.3419132232666,
          0.8372750282287598,
          35.35390090942383,
          8.188051223754883,
          32.4913330078125,
          -36.44792175292969,
          7.760883808135986,
          -2.8797287940979004,
          31.31443977355957,
          -7.072093486785889,
          -36.838584899902344,
          2.9671521186828613,
          7.912323474884033,
          -39.36440658569336,
          10.709625244140625,
          -13.628374099731445,
          -2.3343424797058105,
          0.324190616607666,
          -23.646257400512695,
          26.20228385925293,
          5.545587062835693,
          -7.950061321258545,
          19.445335388183594,
          42.739376068115234,
          -8.517169952392578,
          16.848052978515625,
          1.2709987163543701,
          10.236806869506836,
          23.940500259399414,
          6.625407695770264,
          6.2147040367126465,
          37.32181930541992,
          6.095869541168213,
          0.658876895904541,
          -23.631486892700195,
          9.318303108215332,
          10.742210388183594,
          21.309585571289062,
          8.277236938476562,
          49.523006439208984,
          -5.1858229637146,
          21.267751693725586,
          30.045684814453125,
          41.643836975097656,
          -2.084163188934326,
          -10.600580215454102,
          24.71575164794922,
          25.774566650390625,
          -12.745012283325195,
          -17.76858901977539,
          3.1042561531066895,
          -12.496850967407227,
          -21.53143882751465,
          13.234899520874023,
          6.363551616668701,
          25.47580337524414,
          14.357858657836914,
          -37.0398063659668,
          50.71794509887695,
          24.163530349731445,
          -3.482731342315674,
          -40.31378936767578,
          13.13412857055664,
          -38.49186325073242,
          -17.86839485168457,
          42.94242858886719,
          -19.305553436279297,
          0.8350019454956055,
          -9.445941925048828,
          -6.560521602630615,
          -35.889801025390625,
          13.282979965209961,
          2.642517566680908,
          -10.109024047851562,
          9.145774841308594,
          1.4701166152954102,
          2.0494885444641113,
          3.9804883003234863,
          17.863794326782227,
          -19.754724502563477,
          35.589744567871094,
          25.461660385131836,
          15.255353927612305,
          15.617115020751953,
          0.4401431083679199,
          14.533578872680664,
          -6.648269176483154,
          14.213268280029297,
          17.96286964416504,
          9.285816192626953,
          -23.33080291748047,
          14.111124038696289,
          -25.453596115112305,
          27.018455505371094,
          -6.254194736480713,
          20.31645965576172,
          6.076878070831299,
          -14.616582870483398,
          -2.061753749847412,
          11.253227233886719,
          15.634714126586914,
          37.15264892578125,
          -29.971166610717773,
          -0.38078975677490234,
          5.399872303009033,
          18.556238174438477,
          26.980085372924805,
          -12.928552627563477,
          -33.12051010131836,
          -2.0162510871887207,
          -26.801790237426758,
          53.99636459350586,
          -3.7503819465637207,
          22.6690731048584,
          -19.511568069458008,
          -12.941812515258789,
          26.552461624145508,
          23.971038818359375,
          45.014198303222656,
          21.70396614074707,
          22.10847282409668,
          -8.713882446289062,
          23.995702743530273,
          -19.871612548828125,
          -1.8617157936096191,
          6.982262134552002,
          26.15752410888672,
          13.259105682373047,
          5.187899112701416,
          22.98785972595215,
          42.45500183105469,
          -42.8765983581543,
          -14.067203521728516,
          9.810240745544434,
          16.977588653564453,
          8.657161712646484,
          -17.963544845581055,
          -24.65595054626465,
          15.01760482788086,
          -3.9540209770202637,
          9.927047729492188,
          13.04054069519043,
          20.613683700561523,
          13.153671264648438,
          9.18736457824707,
          -6.914371013641357,
          27.331125259399414,
          -15.695926666259766,
          24.25304412841797,
          9.30781364440918,
          43.41293716430664,
          -36.410701751708984,
          50.56736373901367,
          36.1584358215332,
          33.063941955566406,
          -14.847818374633789,
          20.26180076599121,
          39.19352340698242,
          22.359560012817383,
          12.46446418762207,
          21.691083908081055,
          -24.775327682495117,
          -11.13499641418457,
          44.202274322509766,
          3.655333995819092,
          35.58989334106445,
          14.743034362792969,
          30.442853927612305,
          17.592971801757812,
          -15.966985702514648,
          12.10543441772461,
          -23.637310028076172,
          12.693687438964844,
          8.670921325683594,
          22.648324966430664,
          16.606998443603516,
          0.8936033248901367,
          -5.520358562469482,
          -4.713195323944092,
          12.726183891296387,
          16.729290008544922,
          -7.611904621124268,
          22.733257293701172,
          -3.8023695945739746,
          13.928094863891602,
          -32.25739669799805,
          0.19717025756835938,
          15.217771530151367,
          22.611831665039062,
          -27.23546028137207,
          -6.003385066986084,
          3.9240877628326416,
          -16.450302124023438,
          45.937259674072266,
          32.95480728149414,
          -11.18510627746582,
          -35.50514602661133,
          8.21059799194336,
          -39.6796989440918,
          -13.623367309570312,
          -7.4784159660339355,
          19.72003936767578,
          8.589771270751953,
          16.559831619262695,
          -1.7705025672912598,
          -35.26677322387695,
          -16.11191749572754,
          -26.2252140045166,
          32.63511276245117,
          -1.888960361480713,
          33.79364776611328,
          14.69442367553711,
          15.334829330444336,
          19.601219177246094,
          -14.320211410522461,
          13.47386360168457,
          4.809601306915283,
          9.498050689697266,
          -8.385351181030273,
          37.34418487548828,
          -42.21049880981445,
          48.27164077758789,
          3.8846778869628906,
          3.9766716957092285,
          -13.606855392456055,
          23.769865036010742,
          -26.540637969970703,
          0.1302475929260254,
          27.31368637084961,
          5.943414211273193,
          -2.265921115875244,
          0.3292684555053711,
          5.810959339141846,
          36.811180114746094,
          -0.39196205139160156,
          31.93330192565918,
          -11.324752807617188,
          -19.908628463745117,
          -3.54679536819458,
          19.579545974731445,
          -9.08449935913086,
          -21.305856704711914,
          -9.626623153686523,
          31.19907569885254,
          -4.893809795379639,
          -14.382818222045898,
          1.861743450164795,
          -5.18972635269165,
          38.21397018432617,
          14.130611419677734,
          6.632852077484131,
          10.599868774414062,
          45.99002456665039,
          36.854248046875,
          -0.09862756729125977,
          8.782848358154297,
          -4.143551349639893,
          3.6094472408294678,
          25.975357055664062,
          -24.603214263916016,
          -13.039182662963867,
          0.2114419937133789,
          13.526384353637695,
          13.037288665771484,
          20.81818199157715,
          11.241819381713867,
          -2.187452793121338,
          5.810998439788818,
          -30.416475296020508,
          -1.8640456199645996,
          11.890310287475586,
          -35.916595458984375,
          -7.900112628936768,
          24.753530502319336,
          3.1974191665649414,
          26.212095260620117,
          9.519149780273438,
          -12.84775161743164,
          -1.7463107109069824,
          16.060964584350586,
          -12.766498565673828,
          18.979761123657227,
          -1.3457589149475098,
          1.5674538612365723,
          1.6852078437805176,
          -18.374799728393555,
          32.17528533935547,
          36.033084869384766,
          -24.46304702758789,
          12.467233657836914,
          46.58985137939453,
          1.1228747367858887,
          19.529218673706055,
          35.82144546508789,
          28.44904899597168,
          18.2906436920166,
          -20.337888717651367,
          -35.13935089111328,
          34.30556869506836,
          -4.258656024932861,
          27.380834579467773,
          -5.67754602432251,
          24.11151123046875,
          6.088511943817139,
          -8.851238250732422,
          47.23668670654297,
          11.604613304138184,
          -2.261258602142334,
          13.188508987426758,
          -8.695623397827148,
          31.196805953979492,
          15.988906860351562,
          -11.98838996887207,
          -3.574836254119873,
          -19.910200119018555,
          20.59357261657715,
          -26.752580642700195,
          -22.324914932250977,
          -36.44084548950195,
          11.255463600158691,
          -24.6895809173584,
          11.242938995361328,
          0.3737301826477051,
          -7.82130765914917,
          -0.2646918296813965,
          -0.5079302787780762,
          7.956239700317383,
          -12.369722366333008,
          17.838022232055664,
          11.68901252746582,
          -21.564809799194336,
          -18.255422592163086,
          15.641044616699219,
          22.501108169555664,
          17.436161041259766,
          31.636396408081055,
          0.30798768997192383,
          -8.92718505859375,
          0.6481995582580566,
          -0.7946562767028809,
          -41.24593734741211,
          17.993515014648438,
          -9.703725814819336,
          15.912986755371094,
          27.009550094604492,
          5.483717441558838,
          -10.294927597045898,
          5.148693561553955,
          25.39937973022461,
          36.48321533203125,
          12.650323867797852,
          -4.556453227996826,
          41.80546188354492,
          12.524499893188477,
          18.554147720336914,
          -17.064592361450195,
          -30.473989486694336,
          -11.881250381469727,
          31.30292510986328,
          12.474994659423828,
          22.44859504699707,
          16.09627914428711,
          3.2952046394348145,
          -17.826257705688477,
          -8.32172966003418,
          36.40877151489258,
          1.0512871742248535,
          -14.013162612915039,
          29.679832458496094,
          -11.125587463378906,
          12.196832656860352,
          -25.523935317993164,
          19.988910675048828,
          21.853139877319336,
          44.68740463256836,
          27.677446365356445,
          18.9196720123291,
          5.619802951812744,
          13.666387557983398,
          -12.873991012573242,
          15.518146514892578,
          30.42144203186035,
          23.72551918029785,
          -32.32304000854492,
          32.050811767578125,
          5.402655601501465,
          -16.954774856567383,
          48.63960266113281,
          -13.296966552734375,
          33.84920120239258,
          -8.185035705566406,
          28.70757293701172,
          -25.87520408630371,
          -6.912992000579834,
          -16.78526496887207,
          -10.108463287353516,
          11.147380828857422,
          15.782979965209961,
          -10.44790267944336,
          22.81696319580078,
          12.43104362487793,
          39.99783706665039,
          7.574721336364746,
          -24.47520637512207,
          9.712018966674805,
          -18.039701461791992,
          26.162025451660156,
          25.438783645629883,
          11.024503707885742,
          -32.926273345947266,
          27.79160499572754,
          -34.50913619995117,
          -13.928672790527344,
          -11.397937774658203,
          36.43180847167969,
          37.313907623291016,
          48.79365158081055,
          18.467432022094727,
          10.722640991210938,
          24.534982681274414,
          6.050383567810059,
          -1.237678050994873,
          24.96367073059082,
          -8.42762565612793,
          4.513233661651611,
          36.19490051269531,
          -25.33060646057129,
          -4.934699535369873,
          -13.223196029663086,
          -2.2200560569763184,
          39.714603424072266,
          9.194962501525879,
          23.45975685119629,
          -32.871185302734375,
          -16.82312774658203,
          25.858434677124023,
          -2.5180182456970215,
          -35.477439880371094,
          35.258262634277344,
          29.727977752685547,
          4.689442157745361,
          -5.405563831329346,
          -14.991525650024414,
          43.440364837646484,
          -9.474411010742188,
          20.372161865234375,
          -8.194364547729492,
          -17.50214958190918,
          -37.333255767822266,
          -25.02723503112793,
          -20.42653465270996,
          -23.1943302154541,
          25.441089630126953,
          2.9279446601867676,
          -16.005645751953125,
          9.452101707458496,
          2.7221016883850098,
          14.456867218017578,
          -3.184812068939209,
          4.306457042694092,
          22.71108055114746,
          27.917356491088867,
          -11.782140731811523,
          -32.667537689208984,
          39.21888732910156,
          14.895851135253906,
          15.389530181884766,
          -4.415872097015381,
          8.598331451416016,
          8.306253433227539,
          18.37689208984375,
          12.37401008605957,
          -14.109909057617188,
          32.90507888793945,
          -11.906444549560547,
          12.662532806396484,
          2.178661823272705,
          29.34722900390625,
          29.449167251586914,
          -15.719640731811523,
          12.237625122070312,
          18.57647705078125,
          27.67047691345215,
          21.44888687133789,
          12.681953430175781,
          -9.412246704101562,
          1.5001606941223145,
          40.937747955322266,
          -13.562726974487305,
          20.392805099487305,
          -4.347327709197998,
          27.34635353088379,
          -22.937780380249023,
          -2.3235487937927246,
          -14.898805618286133,
          -9.320781707763672,
          19.13417625427246,
          -3.469176769256592,
          33.54753112792969,
          -20.266355514526367,
          -30.221670150756836,
          9.689586639404297,
          41.35207748413086,
          40.43825912475586,
          6.010108470916748,
          -14.815654754638672,
          14.821212768554688,
          33.630897521972656,
          14.194381713867188,
          -8.234989166259766,
          3.9885973930358887,
          15.192926406860352,
          33.34830093383789,
          -17.367895126342773,
          18.645057678222656,
          30.269506454467773,
          4.5476460456848145,
          10.635980606079102,
          2.7310848236083984,
          2.3336567878723145,
          32.999176025390625,
          -7.507633686065674,
          32.975955963134766,
          -10.784355163574219,
          22.801319122314453,
          0.8291802406311035,
          -22.863445281982422,
          -25.72624969482422,
          5.212928771972656,
          -15.766889572143555,
          -17.148059844970703,
          20.12374496459961,
          -13.933557510375977,
          -11.01869010925293,
          -28.14801597595215,
          -26.96826171875,
          8.621829986572266,
          -12.361761093139648,
          -14.929574966430664,
          41.94532012939453,
          18.558958053588867,
          36.293701171875,
          39.76973342895508,
          -21.95306396484375,
          4.660318851470947,
          2.6333460807800293,
          39.81818771362305,
          -9.819128036499023,
          -21.400466918945312,
          50.15933609008789,
          48.563140869140625,
          -10.0836181640625,
          -22.12142562866211,
          -6.953866481781006,
          -20.186511993408203,
          24.985027313232422,
          -23.024070739746094,
          1.2490487098693848,
          -10.669898986816406,
          -10.222991943359375,
          10.8101224899292,
          8.378528594970703,
          -36.63972854614258,
          -3.5279860496520996,
          28.03234100341797,
          28.966819763183594,
          -11.112997055053711,
          -12.307670593261719,
          15.562637329101562,
          -5.72418737411499,
          8.815742492675781,
          31.415525436401367,
          9.360437393188477,
          34.96202087402344,
          -24.396406173706055,
          30.584091186523438,
          -1.467052936553955,
          -13.014474868774414,
          36.50046157836914,
          -20.003894805908203,
          -13.60284423828125,
          17.211135864257812,
          -2.0893797874450684,
          4.591835021972656,
          -36.49101638793945,
          10.826786041259766,
          33.86604690551758,
          -39.61043930053711,
          -40.37337875366211,
          26.0071964263916,
          41.41318130493164,
          -22.765077590942383,
          18.224523544311523,
          12.574075698852539,
          -0.08257150650024414,
          -30.627347946166992,
          0.4876561164855957,
          18.991701126098633,
          -14.341451644897461,
          -8.39586067199707,
          52.89468765258789,
          21.208168029785156,
          -11.653255462646484,
          1.0182280540466309,
          17.590744018554688,
          -17.894710540771484,
          2.2383580207824707,
          9.715873718261719,
          35.45491027832031,
          -16.06293296813965,
          29.779199600219727,
          11.596931457519531,
          -34.91221237182617,
          51.29714584350586,
          4.483673572540283,
          -15.046712875366211,
          13.370956420898438,
          -18.368606567382812,
          20.66807746887207,
          -25.892908096313477,
          19.42715835571289,
          -7.306735515594482,
          1.9080405235290527,
          -20.119548797607422,
          9.417409896850586,
          -6.359973430633545,
          -18.829904556274414,
          -29.85599708557129,
          26.44110679626465,
          16.924715042114258,
          8.651304244995117,
          11.817434310913086,
          6.848374843597412,
          -32.53642654418945,
          19.472604751586914,
          45.29384994506836,
          4.477705001831055,
          -11.888473510742188,
          -3.5014491081237793,
          36.24762725830078,
          29.923585891723633,
          -8.480098724365234,
          6.403548240661621,
          30.783472061157227,
          11.89522933959961,
          1.6729531288146973,
          -3.576444149017334,
          38.15229415893555,
          20.17798614501953,
          39.65506362915039,
          -4.899865627288818,
          -19.841346740722656,
          -25.144529342651367,
          44.51274871826172,
          -25.30070686340332,
          -23.985567092895508,
          13.653751373291016,
          -35.38482666015625,
          5.468101978302002,
          19.856800079345703,
          15.958902359008789,
          9.3896484375,
          0.2664794921875,
          -0.503847599029541,
          -39.99734115600586,
          36.28048324584961,
          -13.36349105834961,
          5.02164363861084,
          -35.53328323364258,
          -7.807571887969971,
          -21.374380111694336,
          13.684154510498047,
          -5.5250563621521,
          -19.387189865112305,
          26.07307243347168,
          40.66109085083008,
          27.47285270690918,
          31.48650360107422,
          33.69200897216797,
          36.81650924682617,
          0.6415982246398926,
          31.65665054321289,
          17.7672061920166,
          25.90060806274414,
          -9.17818832397461,
          12.808600425720215,
          15.335502624511719,
          -20.069091796875,
          1.0437264442443848,
          4.670752048492432,
          2.0926671028137207,
          -11.519369125366211,
          -12.816484451293945,
          -7.071403980255127,
          20.385425567626953,
          8.141084671020508,
          -17.861631393432617,
          11.599462509155273,
          -9.857345581054688,
          -15.462875366210938,
          4.428515911102295,
          20.793357849121094,
          1.2676506042480469,
          -8.757659912109375,
          46.71015167236328,
          -13.692113876342773,
          22.844226837158203,
          -20.86052703857422,
          3.1946663856506348,
          4.774711608886719,
          14.542177200317383,
          -17.387840270996094,
          -23.403663635253906,
          -7.098877429962158,
          -6.996248722076416,
          -22.15691566467285,
          0.28131532669067383,
          41.112552642822266,
          24.755393981933594,
          -34.75056076049805,
          -28.297693252563477,
          14.442224502563477,
          16.88356590270996,
          -21.537202835083008,
          12.141855239868164,
          -10.713516235351562,
          2.263549327850342,
          10.729307174682617,
          47.11924362182617,
          -13.687997817993164,
          -6.990147113800049,
          -2.0456271171569824,
          1.2150616645812988,
          20.040639877319336,
          16.926666259765625,
          6.708410263061523,
          42.23971939086914,
          23.022478103637695,
          39.67287826538086,
          3.698732852935791,
          1.8760390281677246,
          -6.068796634674072,
          15.637950897216797,
          -17.633623123168945,
          -11.844938278198242,
          29.782222747802734,
          0.21375703811645508,
          18.76082420349121,
          8.099403381347656,
          15.010210037231445,
          -20.898622512817383,
          -17.975496292114258,
          37.76631164550781,
          4.013271808624268,
          35.079132080078125,
          -31.019041061401367,
          -31.232351303100586,
          15.64857292175293,
          -33.586978912353516,
          16.443483352661133,
          2.319423198699951,
          -8.317684173583984,
          26.340665817260742,
          19.839452743530273,
          32.88359069824219,
          28.343828201293945,
          26.651369094848633,
          -18.6124210357666,
          27.806177139282227,
          26.09484100341797,
          -26.887107849121094,
          -16.117176055908203,
          39.8253288269043,
          -4.817703723907471,
          -31.127920150756836,
          -6.720595836639404,
          -15.974924087524414,
          18.198997497558594,
          -20.170692443847656,
          26.384218215942383,
          23.28156089782715,
          9.003667831420898,
          -31.088674545288086,
          6.9106926918029785,
          14.846471786499023,
          32.401275634765625,
          8.086609840393066,
          20.74709129333496,
          0.6855554580688477,
          28.68028450012207,
          0.9560794830322266,
          0.49840402603149414,
          -8.34492301940918,
          -23.368572235107422,
          -33.64753341674805,
          24.37980079650879,
          3.609161138534546,
          33.34690856933594,
          -4.854114055633545,
          -3.513319492340088,
          16.607868194580078,
          -32.42920684814453,
          4.123772144317627,
          3.9989094734191895,
          11.26688003540039,
          2.435666561126709,
          -19.780393600463867,
          -10.419483184814453,
          13.087165832519531,
          -5.296773433685303,
          10.894308090209961,
          -6.533481121063232,
          13.8311767578125,
          -26.711523056030273,
          -25.709972381591797,
          4.758630275726318,
          -15.92770767211914,
          41.93757247924805,
          9.742670059204102,
          -13.219398498535156,
          -6.477048397064209,
          -7.570957660675049,
          21.154909133911133,
          0.08611440658569336,
          -7.024756908416748,
          38.339210510253906,
          11.239326477050781,
          -28.764963150024414,
          0.5796113014221191,
          -22.148313522338867,
          -16.934560775756836,
          -28.460248947143555,
          -0.5542559623718262,
          18.53974151611328,
          -8.003705978393555,
          15.928743362426758,
          20.21854591369629,
          37.20860290527344,
          17.527278900146484,
          -28.424989700317383,
          -10.750112533569336,
          -3.485863208770752,
          -9.383686065673828,
          9.316835403442383,
          20.74159812927246,
          35.39324951171875,
          -3.575655460357666,
          4.746812343597412,
          6.728378772735596,
          34.46697235107422,
          29.643823623657227,
          16.10234260559082,
          -8.920696258544922,
          45.056697845458984,
          25.150728225708008,
          -7.179703235626221,
          -2.9013776779174805,
          39.13019943237305,
          -0.977412223815918,
          -8.933439254760742,
          -12.236042022705078,
          8.301072120666504,
          19.800724029541016,
          11.432632446289062,
          35.624000549316406,
          -12.89007568359375,
          -13.841466903686523,
          -20.6555233001709,
          21.472854614257812,
          -7.959240436553955,
          3.9139485359191895,
          13.417722702026367,
          -11.838918685913086,
          -21.31212043762207,
          -10.306774139404297,
          9.877756118774414,
          -22.772260665893555,
          3.2016468048095703,
          -40.325931549072266,
          30.293437957763672,
          38.05247116088867,
          2.176088809967041,
          48.54916763305664,
          33.744056701660156,
          10.084720611572266,
          52.483306884765625,
          -9.105222702026367,
          22.309093475341797,
          -26.771343231201172,
          -5.7701191902160645,
          -23.19370460510254,
          11.71475601196289,
          -2.6968765258789062,
          -4.869908809661865,
          -20.617427825927734,
          25.81969451904297,
          -23.896709442138672,
          0.16176128387451172,
          -13.619159698486328,
          11.053262710571289,
          4.777366638183594,
          -7.1045098304748535,
          2.412733554840088,
          42.10044479370117,
          12.670869827270508,
          3.597594738006592,
          8.959394454956055,
          27.283872604370117,
          10.651525497436523,
          -3.228776454925537,
          -14.835067749023438,
          -19.97221565246582,
          -20.933998107910156,
          4.077409744262695,
          23.460613250732422,
          7.628380298614502,
          30.463138580322266,
          17.772789001464844,
          -24.64142417907715,
          -10.904943466186523,
          33.034149169921875,
          31.266387939453125,
          16.039234161376953,
          -10.675653457641602,
          20.80875587463379,
          47.17981719970703,
          -13.824329376220703,
          0.041956424713134766,
          -26.377656936645508,
          -16.00188636779785,
          -6.5456976890563965,
          14.576700210571289,
          -1.4538254737854004,
          18.402381896972656,
          -3.109696865081787,
          5.7558770179748535,
          -1.182535171508789,
          9.516162872314453,
          -13.591754913330078,
          29.675607681274414,
          43.19679641723633
         ],
         "xaxis": "x",
         "y": [
          -0.5051906007560099,
          26.27998927049643,
          2.566793139184651,
          -1.0708129842745688,
          -19.054059895613427,
          17.575232006036853,
          23.07907582809496,
          -27.556197434980007,
          31.297736090476146,
          44.10592580186984,
          -34.360088364723055,
          7.868373314676804,
          33.41885236533153,
          -7.5770596643676456,
          -14.548467714014542,
          -24.568967694849857,
          4.42952911693123,
          -18.864999898432753,
          -1.4975406095599533,
          5.4487156078935515,
          2.8948224752590046,
          -19.396751001301133,
          -25.608209059013163,
          -18.94364338824013,
          31.455026907559986,
          -19.348946813610873,
          5.477471174864358,
          -24.684945107435897,
          -38.69204821793477,
          22.2215282440206,
          16.88718924825152,
          18.649462260005613,
          -14.970523825432036,
          -10.095452550653429,
          -8.112159595784462,
          10.010394960886888,
          7.801639920431454,
          41.16171338808546,
          22.532907011392293,
          -18.60473793073445,
          16.53609464195789,
          1.0950669174203929,
          19.223688999606193,
          -15.037672838084811,
          9.098705761858684,
          8.425123185502027,
          15.697992667892798,
          19.364122422534543,
          10.796539366203824,
          28.441824862307932,
          -27.89491772389281,
          -42.082237708197724,
          -7.862142447478039,
          27.82669843191379,
          -9.253057659789704,
          16.223789886328035,
          18.737077415865787,
          25.537824579609484,
          -17.328241211180693,
          29.291336752614225,
          1.311451052054247,
          35.58574296368267,
          7.633417159235858,
          32.37537298726413,
          -36.983969438877686,
          7.607673890251869,
          -3.740272186261561,
          30.46349340477146,
          -7.104972153017373,
          -36.82837848205154,
          4.028932750823999,
          8.187672319886596,
          -39.389332410030754,
          11.716188612888434,
          -13.919854445298405,
          -1.789627428273782,
          0.5151542382455467,
          -24.307468851283495,
          25.366458300606322,
          4.708116313996879,
          -8.725189318911875,
          18.53179137648437,
          42.97742180118053,
          -7.696210728980946,
          15.900355796692404,
          0.5529760004734623,
          10.63597022228185,
          23.497839824941206,
          7.645654550612848,
          5.649895091411946,
          37.158112088364575,
          5.325291890932138,
          0.5015071850690143,
          -23.56500470647831,
          9.75529179846424,
          10.01116693857209,
          20.522199451398425,
          8.565032978795028,
          50.036176442787614,
          -4.554931962042112,
          20.434129005849123,
          29.047600313446345,
          42.42365424025363,
          -1.4204664713239892,
          -11.072791097516973,
          25.102883695281484,
          25.654337024900038,
          -12.563449203674535,
          -17.28444535177886,
          3.291186476057895,
          -12.102776804522009,
          -20.493293249899683,
          13.791687681639683,
          5.693391713033467,
          25.820040668117343,
          13.892288436936425,
          -36.72094874147443,
          51.226932112718465,
          23.56676648402109,
          -3.2557825539518443,
          -39.40332786195759,
          12.391880002462281,
          -39.08904825713091,
          -16.857337164471744,
          43.72391258562961,
          -19.620434500272136,
          0.5886645436998412,
          -8.637852030682861,
          -7.363752182542472,
          -36.447896893011,
          13.725182298493078,
          2.9563208209118623,
          -9.488991639321023,
          9.347544217896983,
          2.2638133643880094,
          1.649004253068553,
          3.6798759483376164,
          17.758540882161494,
          -19.970973966250988,
          35.423299020248926,
          24.718533367922443,
          14.308400736114281,
          15.331702938910023,
          0.5837370567802456,
          14.665635787572743,
          -6.0094848535005925,
          14.29520842765459,
          18.075094306404413,
          9.357380436699756,
          -23.466037097059935,
          14.82438066049209,
          -26.291015720024536,
          27.409972614611487,
          -5.3541192345969515,
          19.86582488289283,
          6.292636311347867,
          -14.980200757615911,
          -2.1712549781853987,
          10.358350243302727,
          15.793351891762844,
          36.58882060402631,
          -29.218681413942228,
          0.5203948749560356,
          4.7803320513023735,
          19.110748331381583,
          26.88532504036966,
          -12.53054975677296,
          -32.559824481758895,
          -2.1421360596251207,
          -26.60424831403093,
          54.81166546901227,
          -4.48409882035743,
          23.646603865336203,
          -19.91620527725559,
          -13.527959326874967,
          26.25008362511085,
          24.362355223873084,
          45.71390697307653,
          21.651211226455068,
          22.929070326903076,
          -9.059761348145068,
          24.251182719464012,
          -19.526554765875716,
          -1.4578676107775836,
          7.159857061480926,
          26.22820273573096,
          13.67030042195319,
          5.815199390971488,
          22.057842302326847,
          42.15953562977619,
          -42.63476607864875,
          -13.537899346761408,
          9.632023023602555,
          17.9033551231206,
          7.747015464310136,
          -17.934878582305796,
          -24.805947454651633,
          15.767895657258837,
          -3.857229212033813,
          10.24147919608822,
          12.161452140496829,
          21.29152931084929,
          12.911613052247143,
          9.148459330735621,
          -6.730820170291901,
          28.15847428771944,
          -15.044846907872813,
          23.628552683064736,
          9.374511292839621,
          43.83734715757275,
          -35.510060590387575,
          51.203815317340364,
          36.27164174933063,
          33.59887250127845,
          -15.53415489451557,
          19.49831232031772,
          39.24730021532124,
          23.12678651776467,
          12.601912022392769,
          21.938335141701376,
          -24.081043225053687,
          -11.466302240633937,
          44.04795422847743,
          4.312077819385846,
          35.141568023158776,
          14.373019555063989,
          30.390539337525173,
          18.026779061087023,
          -16.327756210077116,
          11.547359804950446,
          -23.90820876523144,
          11.992168338927607,
          9.17086834224391,
          23.596740607413402,
          16.813851166068122,
          0.435744612927472,
          -5.5710690094027795,
          -5.118679482355631,
          11.951345859362387,
          16.303980550146807,
          -8.496169881454115,
          22.952071958964975,
          -4.550442742664485,
          13.692158264834081,
          -32.222525452332505,
          0.47731165310381907,
          15.932928256997819,
          22.72226846740886,
          -27.02106795724082,
          -6.544893581480507,
          2.9872517407415744,
          -16.822416398826405,
          46.1232589102556,
          33.170356014781724,
          -10.943360550808215,
          -34.47051949705558,
          7.376393295587453,
          -38.86028927092571,
          -13.522039991959112,
          -6.465779725864115,
          18.875410974065574,
          7.995983139963712,
          16.047346293761994,
          -1.7824284091056346,
          -34.321800538727004,
          -15.24862867230786,
          -26.42820895532527,
          32.953539807368905,
          -1.8625380950463537,
          32.93826470809705,
          15.051495691811962,
          14.394348704620478,
          20.51621827249244,
          -14.721723948449307,
          14.019431672436397,
          4.41681347911641,
          9.445796898255796,
          -8.485369943324583,
          37.44047005328403,
          -41.99907809175108,
          47.36184690830215,
          4.629661807912708,
          4.452525143245459,
          -14.336037479448656,
          24.217746223988414,
          -25.4187564027475,
          -0.06788692972004462,
          27.19610446728214,
          5.114372437008059,
          -1.3926020494227382,
          0.5748514190741754,
          4.789316908215649,
          36.22977789913841,
          -1.1164655447379017,
          31.07795269680227,
          -10.95374476400587,
          -20.65609325536663,
          -2.9622849550179984,
          20.48026593539425,
          -8.701279887493307,
          -22.14787148770285,
          -9.33327961410093,
          30.624300753697824,
          -4.3033695425000005,
          -14.44821334178172,
          2.6731147497032843,
          -4.21880645179464,
          38.018377831433995,
          13.764329301690866,
          7.38586883068035,
          10.477713963073489,
          46.00770068767582,
          37.24183185713838,
          -1.009347205639473,
          8.116095220370092,
          -4.282172690745299,
          4.600810248103317,
          26.113906223033958,
          -24.83522344511409,
          -13.284977161607046,
          1.1166622163427833,
          13.045643001806399,
          12.310472615778135,
          20.469412131234563,
          12.094781813640855,
          -2.6441361500408465,
          5.658433216650629,
          -29.980779023318718,
          -2.061194936888291,
          11.332820872642008,
          -35.19683147348367,
          -8.000814977757466,
          25.49208885998576,
          3.2412843954390738,
          26.049257432476736,
          9.243732254259958,
          -12.009922213880747,
          -2.6044258718651534,
          16.093803072700105,
          -13.661847618324714,
          18.2851001780162,
          -1.6924759413985075,
          2.498425251910697,
          2.615766275794383,
          -19.101329730008406,
          31.59117823501629,
          36.22206612340652,
          -24.378493376377822,
          12.25007776903074,
          47.01032990108138,
          1.3203153043083757,
          19.143472542095967,
          35.380807574202784,
          28.189865751271093,
          17.373511860224628,
          -20.298406685088526,
          -34.57166630956311,
          33.401787569401655,
          -3.5285747528306004,
          28.280863710312463,
          -4.67607148064824,
          24.561391905839947,
          5.150537041512766,
          -8.050336474051763,
          47.88694031500029,
          11.395775301928825,
          -2.562033463847519,
          13.821336620031886,
          -8.785356907603346,
          31.76485102004218,
          16.019022327218657,
          -11.470214629764198,
          -3.6211675528663707,
          -19.715773871399445,
          20.551177402247102,
          -27.62555265151524,
          -22.251137361474193,
          -35.445243112534165,
          11.161086346956077,
          -24.583055232993047,
          11.037857428078524,
          0.9656243862592901,
          -6.822345264792016,
          -0.06344194889449728,
          -0.7984726432975702,
          8.511399718885375,
          -12.739931486587837,
          17.496990998099104,
          11.30315369768932,
          -21.25765624771668,
          -18.231725222934077,
          16.08003227488242,
          22.734935016941073,
          17.890851052620402,
          30.996279299662028,
          -0.5299311847772894,
          -8.068642066727552,
          -0.09200923498531388,
          -0.455094626251793,
          -40.419665960754905,
          17.286859526476718,
          -9.224758840989535,
          15.468144070107723,
          27.515248977599807,
          4.9562907244401275,
          -10.397755626929376,
          5.815604916931886,
          24.605066239317654,
          36.72417383939939,
          13.293986204965963,
          -4.191340264068254,
          42.68805120387932,
          12.03273970178208,
          17.727786511309105,
          -17.607622106361735,
          -30.497740972202852,
          -11.874263800452255,
          31.0059928003383,
          11.554366821395782,
          23.066709953038615,
          16.387883925644083,
          3.9519440640359265,
          -17.737439592177147,
          -8.102134045520067,
          36.03540736573307,
          1.2424388006578007,
          -14.17442113991285,
          29.81321658296721,
          -11.01520470954131,
          13.109149413566325,
          -25.341528899527347,
          20.28052056568519,
          21.96343306426663,
          43.952547746037624,
          27.247704561808007,
          19.526298637456375,
          6.0859148368311455,
          13.470572217737878,
          -12.879042950864477,
          16.13897860886017,
          30.73872043430269,
          24.037458447254895,
          -32.11137490376748,
          32.43069866847319,
          5.762619683864256,
          -16.179078242151995,
          49.078557725798824,
          -13.332999984691057,
          34.45613086068953,
          -8.703704194672046,
          28.592419513734068,
          -25.28017014610021,
          -6.142214952791258,
          -17.250203873298215,
          -9.859998969578074,
          11.059194054115384,
          15.501695809127037,
          -11.338400593348407,
          22.42114181086616,
          11.805966089756499,
          40.0360498150705,
          6.817924011843447,
          -25.225274135641158,
          10.389920081996499,
          -18.1992736282719,
          26.98064526139268,
          24.41655167253573,
          11.140997863924982,
          -33.15924756057507,
          27.96497307249608,
          -33.91587411224724,
          -13.980090117771178,
          -10.796193518343554,
          37.13321997673785,
          37.890119451338656,
          48.8437539677952,
          19.314457529593547,
          10.458047216670128,
          24.45634843326461,
          6.2158265211633665,
          -0.46057654252175473,
          25.25927541250021,
          -7.839294345439485,
          3.9529395983558606,
          36.00124154070393,
          -24.498574931097604,
          -5.036491568576088,
          -12.925571070964855,
          -2.8267019330413907,
          38.75753251178914,
          9.428383494868164,
          22.930135049280402,
          -32.48352578556854,
          -16.861829201206696,
          26.377661136510014,
          -1.5860719024197745,
          -35.986098967678814,
          35.184155981444846,
          29.576012763178248,
          5.576889059050825,
          -6.312933387037894,
          -14.458592147689593,
          42.720486466406,
          -9.547918110707007,
          20.92524356869397,
          -8.979890341806023,
          -18.240934266006757,
          -36.6077037147767,
          -24.31726959154122,
          -21.276440532528394,
          -22.17492760323021,
          25.26051197205179,
          3.3902364723110994,
          -16.87324438731351,
          8.940712141641256,
          2.0730187892431102,
          14.485734547295987,
          -2.821888928426719,
          4.0477081896361815,
          22.185845200477125,
          27.043450043572474,
          -12.60915414462891,
          -32.51536466823273,
          38.905004473895545,
          14.42906796870501,
          15.714534974591938,
          -3.7891901774395675,
          9.202586438378708,
          8.253904022936688,
          18.394779355785026,
          11.938561408716664,
          -13.036990278459058,
          33.74171533423668,
          -12.759569518882792,
          13.288344784494425,
          1.779921000253177,
          28.458993849958105,
          28.55151287338341,
          -16.255075761231193,
          12.862204402172203,
          18.129462688965923,
          28.182972418947237,
          20.48773724787785,
          12.818619353973476,
          -10.189443506296458,
          1.0935821040891573,
          40.83277428068748,
          -13.930704994673343,
          19.897361763752155,
          -4.29815944475084,
          26.418543629137677,
          -22.891226992233467,
          -2.0761891065462894,
          -14.600322068521617,
          -9.774820354416265,
          18.907082414332713,
          -4.266518822040194,
          34.118414587503125,
          -21.08671114620047,
          -30.12273825814251,
          9.023113435039889,
          41.17204670367619,
          39.63610977815515,
          5.249919279883393,
          -13.80574246356992,
          15.015867867553752,
          34.053683188012414,
          14.358244328615818,
          -8.727165571444871,
          4.874298293083848,
          15.594481425469022,
          33.27849815587006,
          -17.09810977204,
          19.1959448198804,
          29.606952250492647,
          5.066052640915084,
          9.697414532499192,
          2.4105430908185017,
          2.572551198237888,
          33.302360982750564,
          -6.621876713937246,
          33.05492312987733,
          -10.975211574825975,
          21.911315904247218,
          1.0955288369337972,
          -22.331097435256297,
          -26.228158379618744,
          4.686698995729623,
          -16.571676974044486,
          -16.201733160460872,
          19.661120495939112,
          -13.649299666749176,
          -10.982984282519487,
          -27.365890600179764,
          -26.648927290413372,
          8.274621277772331,
          -12.592151399939178,
          -15.744921282438156,
          42.81889906456583,
          18.469485209109425,
          36.16769290711062,
          39.68003093701242,
          -21.458885412279265,
          5.603263491093874,
          3.2914793151179835,
          40.53679380680198,
          -9.99967067743635,
          -22.235687946128827,
          50.31155742455159,
          48.58624717673261,
          -10.492966202687128,
          -22.06363345682477,
          -7.03978773550055,
          -20.70795900832239,
          24.655684726594536,
          -22.294210198255588,
          1.0938824759566108,
          -10.45852086129693,
          -10.611985106640795,
          9.867689623871977,
          8.051925184540163,
          -37.34913115022627,
          -3.53092677464754,
          27.120178331672342,
          28.935800451436258,
          -12.016809712454815,
          -12.760651592445127,
          15.423175443062759,
          -6.5398104826368035,
          9.059814393431147,
          31.980825594178484,
          9.304988975188271,
          34.99643738922077,
          -23.903266451719215,
          30.54993687842087,
          -1.001911581951154,
          -12.180775902814355,
          37.046405392758714,
          -20.62164488932995,
          -14.09323856360553,
          17.72665967679285,
          -1.695836245238282,
          5.207272064140758,
          -37.14010709708899,
          11.082689907689254,
          34.624046051730325,
          -38.727327804462305,
          -40.96671673124596,
          26.2057985066451,
          41.01451042640115,
          -23.468629061451733,
          18.045155371002426,
          13.099505912609516,
          -0.8566448298615594,
          -30.925977594701827,
          0.09730695653343924,
          18.521787941035484,
          -13.862796510126591,
          -7.715862933441466,
          53.025789580883846,
          20.93217485928953,
          -11.128320807518511,
          0.8703733624402523,
          18.551003849139104,
          -18.723397574261114,
          1.636998336602102,
          9.005055158271112,
          35.978012446235034,
          -16.20425841119606,
          29.855067879645876,
          12.023308929595357,
          -35.22290733868487,
          50.58389765305351,
          5.149845367141935,
          -14.099710984596832,
          13.435376333574705,
          -18.236571943795404,
          20.70024920972187,
          -25.765764449553263,
          20.332589033228704,
          -7.6274445989889035,
          1.6031888225301123,
          -20.381009460743844,
          10.207926559165395,
          -6.240368872340283,
          -17.879894971317317,
          -28.747453276803313,
          25.777856301523336,
          16.048094322242925,
          7.907514530990335,
          11.92630178659334,
          5.973027073876036,
          -31.969389422712503,
          18.885632780358716,
          44.89890830472891,
          5.077481879000585,
          -11.782590223189237,
          -3.3091973544928566,
          36.170267131105255,
          30.58191616668725,
          -8.536035144916799,
          7.18346726581449,
          29.878233888147413,
          11.988423314949452,
          1.5903584132769704,
          -4.06139947065679,
          38.84747317550743,
          19.846675634081652,
          40.34542828890322,
          -4.0548919945188615,
          -19.724943532892013,
          -25.008943456398413,
          43.61204442753257,
          -25.4229970783319,
          -23.254780799165246,
          13.170004766885262,
          -36.216333713793496,
          6.154217700484068,
          19.902127113737354,
          15.673777235596944,
          8.534645531502717,
          0.6291861433975561,
          0.33878389529811326,
          -39.13068610154707,
          36.066634871939456,
          -13.692129227398615,
          4.500361274322707,
          -34.86344070106505,
          -6.901126321779991,
          -21.430509145620118,
          14.342914070111927,
          -4.675878873793062,
          -19.496191918674942,
          25.649496881480175,
          39.59416568233841,
          26.469486990079403,
          32.150747457728876,
          33.36832890324373,
          36.52025615035031,
          0.481851694181076,
          32.52175290137043,
          18.260675327022497,
          26.551448875502544,
          -8.786453790409748,
          12.077179671088212,
          15.203665471311481,
          -19.302940811655937,
          0.8641813079181702,
          4.243156073930248,
          2.6501379810192494,
          -11.498289305254083,
          -13.217697165117984,
          -7.069493037327124,
          20.354951395287856,
          7.933061176730746,
          -18.604173476967084,
          12.51221738853135,
          -9.385497731608146,
          -15.448070598914208,
          4.4473137926787025,
          20.03737155023536,
          0.8916748548976978,
          -9.605928178386465,
          46.26497800524004,
          -13.432534431803727,
          22.184997806018888,
          -20.033723534517375,
          3.170303142106949,
          5.725612763579426,
          13.76747355765749,
          -16.943829547448562,
          -23.50134127954231,
          -6.860139878867219,
          -6.334654258277431,
          -22.78472368897647,
          1.2486473834699603,
          40.53779841862221,
          24.067041869581104,
          -35.19123382642259,
          -28.433253609692727,
          15.286271579473357,
          16.23778349985184,
          -21.263681757382443,
          13.040045758782755,
          -10.445558991604642,
          1.6490742674174996,
          10.996277006066327,
          47.12442721235987,
          -13.682297121348853,
          -7.28606027787332,
          -1.645823598019083,
          0.8020058664588015,
          19.071919629029978,
          17.702260536725053,
          7.126579988446544,
          42.46602260232441,
          23.946177348592272,
          39.87722321236428,
          4.244168442128941,
          2.4348015511037158,
          -6.977035515090431,
          15.128937893796484,
          -17.731720696653067,
          -11.073875977184409,
          29.259404213279705,
          0.9219932526604562,
          18.934661472356744,
          8.98811008530668,
          15.73209425345064,
          -21.537883580231703,
          -17.97723272764975,
          36.980378747532356,
          4.307247403595727,
          34.49498675447058,
          -31.418826831890605,
          -30.274315079540123,
          15.896790767726085,
          -32.876581368425775,
          15.71747085883171,
          1.7148209676948216,
          -7.969641508960938,
          26.477740813644765,
          19.70714150885524,
          32.972268357760655,
          28.013885212821247,
          26.54158464599172,
          -19.209331212302263,
          26.801822193852683,
          25.751708417932473,
          -27.719797687407052,
          -16.48224774527971,
          39.89551599086694,
          -3.7995262579150513,
          -31.70403035394518,
          -6.796559176483877,
          -16.180884215717274,
          17.63240450422775,
          -20.423757134660537,
          26.817431257927716,
          22.569214625263715,
          8.725040833269011,
          -30.671920135334524,
          6.420857046686487,
          14.586293426100841,
          31.946488017679826,
          8.87286609076558,
          20.266295259368942,
          0.9034383129519574,
          27.597920600565367,
          1.1429540409836285,
          -0.4626186642486936,
          -7.9467707960837,
          -22.885391180977685,
          -33.29750192005567,
          24.43191075896778,
          4.426415015037548,
          33.21472227205086,
          -4.403175102811259,
          -3.5376051605400747,
          17.479270265572158,
          -32.982311329535406,
          3.9429461648863438,
          3.8364054350890147,
          10.736049800265505,
          2.870505122903901,
          -19.966415577051677,
          -10.449513768287144,
          12.623152458612024,
          -5.99279450002157,
          10.93605224918956,
          -7.401548587871905,
          13.629793956367138,
          -27.085889059973656,
          -24.844254348599716,
          5.216213102126865,
          -16.742352072899255,
          41.6370526195942,
          10.584257334261684,
          -13.220949584352136,
          -7.081372107465629,
          -6.5913221626368,
          22.03538813273251,
          -0.3017753097488527,
          -7.423023003684505,
          38.93217917343831,
          11.224723039357224,
          -28.25009712340379,
          -0.26685691356320684,
          -21.506786533449695,
          -17.003000518276735,
          -28.518645642380505,
          -1.041486788099239,
          19.09036791289067,
          -8.354697935668566,
          15.658589952519334,
          19.853305423332074,
          36.90973964541272,
          17.285836839595856,
          -29.251986959688995,
          -10.844147565416204,
          -3.780033090607273,
          -8.898568983014611,
          9.846520188135624,
          20.93473622306005,
          35.65810818539478,
          -3.274834515017273,
          5.625164863984636,
          6.828414207819625,
          35.09944909040978,
          30.178856652656833,
          16.191146339768437,
          -8.22224900879614,
          45.689068885007835,
          24.332405284372097,
          -7.620513271667882,
          -2.830000447172407,
          39.72125645156858,
          -0.8382892319931268,
          -9.175421477549282,
          -12.342010021685216,
          8.944778923040158,
          20.29240675865391,
          12.294759066499015,
          36.388915737753045,
          -12.642845570651016,
          -13.97581293451854,
          -20.622839930517774,
          21.869357893791335,
          -7.692375203777959,
          4.6838578628918475,
          14.343748808014901,
          -11.098934896243705,
          -21.29690077741136,
          -9.972306358012203,
          9.228418385198095,
          -23.184791997092713,
          3.0156107788319857,
          -40.42652701265707,
          29.60288061781165,
          37.23909740894769,
          2.468370383785447,
          47.59401227284226,
          33.4123958425961,
          10.016240426557932,
          52.26748371706504,
          -9.704459750961663,
          21.5221314233153,
          -26.51328095198768,
          -6.073219896047598,
          -22.961889737784833,
          11.429167165118468,
          -3.3459166845898776,
          -5.4902707336492025,
          -20.054563938249853,
          26.636209432441298,
          -24.7524535292698,
          -0.3760127078630866,
          -13.656399808855905,
          11.87033321582689,
          4.1229204291198185,
          -6.224879245386077,
          3.271852091037969,
          42.28733395657529,
          13.382714104111447,
          3.2869882891789395,
          8.843081969906477,
          27.634114417282543,
          10.731486351709426,
          -3.764347222350118,
          -15.556373952852297,
          -19.28974858972884,
          -20.523144541124577,
          4.3515132636463445,
          23.87911623322985,
          7.883152090645908,
          29.970701727102753,
          17.698765581364338,
          -24.857441457913197,
          -11.083177137528066,
          33.125148263713164,
          30.6315645446603,
          16.31599014684896,
          -11.150535911980574,
          20.726142122882287,
          46.49507599747137,
          -13.090821729283071,
          0.9840313740244093,
          -26.897031664503306,
          -16.06502343414099,
          -7.092701143833009,
          14.941643255550305,
          -1.7529007509853023,
          18.63169568033283,
          -3.360111112546206,
          6.113619042864395,
          -0.4933010171240897,
          9.653887546294918,
          -12.792240646334536,
          28.922101326727333,
          42.301943632784095
         ],
         "yaxis": "y"
        }
       ],
       "layout": {
        "height": 400,
        "legend": {
         "tracegroupgap": 0
        },
        "margin": {
         "t": 60
        },
        "template": {
         "data": {
          "bar": [
           {
            "error_x": {
             "color": "#2a3f5f"
            },
            "error_y": {
             "color": "#2a3f5f"
            },
            "marker": {
             "line": {
              "color": "#E5ECF6",
              "width": 0.5
             },
             "pattern": {
              "fillmode": "overlay",
              "size": 10,
              "solidity": 0.2
             }
            },
            "type": "bar"
           }
          ],
          "barpolar": [
           {
            "marker": {
             "line": {
              "color": "#E5ECF6",
              "width": 0.5
             },
             "pattern": {
              "fillmode": "overlay",
              "size": 10,
              "solidity": 0.2
             }
            },
            "type": "barpolar"
           }
          ],
          "carpet": [
           {
            "aaxis": {
             "endlinecolor": "#2a3f5f",
             "gridcolor": "white",
             "linecolor": "white",
             "minorgridcolor": "white",
             "startlinecolor": "#2a3f5f"
            },
            "baxis": {
             "endlinecolor": "#2a3f5f",
             "gridcolor": "white",
             "linecolor": "white",
             "minorgridcolor": "white",
             "startlinecolor": "#2a3f5f"
            },
            "type": "carpet"
           }
          ],
          "choropleth": [
           {
            "colorbar": {
             "outlinewidth": 0,
             "ticks": ""
            },
            "type": "choropleth"
           }
          ],
          "contour": [
           {
            "colorbar": {
             "outlinewidth": 0,
             "ticks": ""
            },
            "colorscale": [
             [
              0,
              "#0d0887"
             ],
             [
              0.1111111111111111,
              "#46039f"
             ],
             [
              0.2222222222222222,
              "#7201a8"
             ],
             [
              0.3333333333333333,
              "#9c179e"
             ],
             [
              0.4444444444444444,
              "#bd3786"
             ],
             [
              0.5555555555555556,
              "#d8576b"
             ],
             [
              0.6666666666666666,
              "#ed7953"
             ],
             [
              0.7777777777777778,
              "#fb9f3a"
             ],
             [
              0.8888888888888888,
              "#fdca26"
             ],
             [
              1,
              "#f0f921"
             ]
            ],
            "type": "contour"
           }
          ],
          "contourcarpet": [
           {
            "colorbar": {
             "outlinewidth": 0,
             "ticks": ""
            },
            "type": "contourcarpet"
           }
          ],
          "heatmap": [
           {
            "colorbar": {
             "outlinewidth": 0,
             "ticks": ""
            },
            "colorscale": [
             [
              0,
              "#0d0887"
             ],
             [
              0.1111111111111111,
              "#46039f"
             ],
             [
              0.2222222222222222,
              "#7201a8"
             ],
             [
              0.3333333333333333,
              "#9c179e"
             ],
             [
              0.4444444444444444,
              "#bd3786"
             ],
             [
              0.5555555555555556,
              "#d8576b"
             ],
             [
              0.6666666666666666,
              "#ed7953"
             ],
             [
              0.7777777777777778,
              "#fb9f3a"
             ],
             [
              0.8888888888888888,
              "#fdca26"
             ],
             [
              1,
              "#f0f921"
             ]
            ],
            "type": "heatmap"
           }
          ],
          "heatmapgl": [
           {
            "colorbar": {
             "outlinewidth": 0,
             "ticks": ""
            },
            "colorscale": [
             [
              0,
              "#0d0887"
             ],
             [
              0.1111111111111111,
              "#46039f"
             ],
             [
              0.2222222222222222,
              "#7201a8"
             ],
             [
              0.3333333333333333,
              "#9c179e"
             ],
             [
              0.4444444444444444,
              "#bd3786"
             ],
             [
              0.5555555555555556,
              "#d8576b"
             ],
             [
              0.6666666666666666,
              "#ed7953"
             ],
             [
              0.7777777777777778,
              "#fb9f3a"
             ],
             [
              0.8888888888888888,
              "#fdca26"
             ],
             [
              1,
              "#f0f921"
             ]
            ],
            "type": "heatmapgl"
           }
          ],
          "histogram": [
           {
            "marker": {
             "pattern": {
              "fillmode": "overlay",
              "size": 10,
              "solidity": 0.2
             }
            },
            "type": "histogram"
           }
          ],
          "histogram2d": [
           {
            "colorbar": {
             "outlinewidth": 0,
             "ticks": ""
            },
            "colorscale": [
             [
              0,
              "#0d0887"
             ],
             [
              0.1111111111111111,
              "#46039f"
             ],
             [
              0.2222222222222222,
              "#7201a8"
             ],
             [
              0.3333333333333333,
              "#9c179e"
             ],
             [
              0.4444444444444444,
              "#bd3786"
             ],
             [
              0.5555555555555556,
              "#d8576b"
             ],
             [
              0.6666666666666666,
              "#ed7953"
             ],
             [
              0.7777777777777778,
              "#fb9f3a"
             ],
             [
              0.8888888888888888,
              "#fdca26"
             ],
             [
              1,
              "#f0f921"
             ]
            ],
            "type": "histogram2d"
           }
          ],
          "histogram2dcontour": [
           {
            "colorbar": {
             "outlinewidth": 0,
             "ticks": ""
            },
            "colorscale": [
             [
              0,
              "#0d0887"
             ],
             [
              0.1111111111111111,
              "#46039f"
             ],
             [
              0.2222222222222222,
              "#7201a8"
             ],
             [
              0.3333333333333333,
              "#9c179e"
             ],
             [
              0.4444444444444444,
              "#bd3786"
             ],
             [
              0.5555555555555556,
              "#d8576b"
             ],
             [
              0.6666666666666666,
              "#ed7953"
             ],
             [
              0.7777777777777778,
              "#fb9f3a"
             ],
             [
              0.8888888888888888,
              "#fdca26"
             ],
             [
              1,
              "#f0f921"
             ]
            ],
            "type": "histogram2dcontour"
           }
          ],
          "mesh3d": [
           {
            "colorbar": {
             "outlinewidth": 0,
             "ticks": ""
            },
            "type": "mesh3d"
           }
          ],
          "parcoords": [
           {
            "line": {
             "colorbar": {
              "outlinewidth": 0,
              "ticks": ""
             }
            },
            "type": "parcoords"
           }
          ],
          "pie": [
           {
            "automargin": true,
            "type": "pie"
           }
          ],
          "scatter": [
           {
            "fillpattern": {
             "fillmode": "overlay",
             "size": 10,
             "solidity": 0.2
            },
            "type": "scatter"
           }
          ],
          "scatter3d": [
           {
            "line": {
             "colorbar": {
              "outlinewidth": 0,
              "ticks": ""
             }
            },
            "marker": {
             "colorbar": {
              "outlinewidth": 0,
              "ticks": ""
             }
            },
            "type": "scatter3d"
           }
          ],
          "scattercarpet": [
           {
            "marker": {
             "colorbar": {
              "outlinewidth": 0,
              "ticks": ""
             }
            },
            "type": "scattercarpet"
           }
          ],
          "scattergeo": [
           {
            "marker": {
             "colorbar": {
              "outlinewidth": 0,
              "ticks": ""
             }
            },
            "type": "scattergeo"
           }
          ],
          "scattergl": [
           {
            "marker": {
             "colorbar": {
              "outlinewidth": 0,
              "ticks": ""
             }
            },
            "type": "scattergl"
           }
          ],
          "scattermapbox": [
           {
            "marker": {
             "colorbar": {
              "outlinewidth": 0,
              "ticks": ""
             }
            },
            "type": "scattermapbox"
           }
          ],
          "scatterpolar": [
           {
            "marker": {
             "colorbar": {
              "outlinewidth": 0,
              "ticks": ""
             }
            },
            "type": "scatterpolar"
           }
          ],
          "scatterpolargl": [
           {
            "marker": {
             "colorbar": {
              "outlinewidth": 0,
              "ticks": ""
             }
            },
            "type": "scatterpolargl"
           }
          ],
          "scatterternary": [
           {
            "marker": {
             "colorbar": {
              "outlinewidth": 0,
              "ticks": ""
             }
            },
            "type": "scatterternary"
           }
          ],
          "surface": [
           {
            "colorbar": {
             "outlinewidth": 0,
             "ticks": ""
            },
            "colorscale": [
             [
              0,
              "#0d0887"
             ],
             [
              0.1111111111111111,
              "#46039f"
             ],
             [
              0.2222222222222222,
              "#7201a8"
             ],
             [
              0.3333333333333333,
              "#9c179e"
             ],
             [
              0.4444444444444444,
              "#bd3786"
             ],
             [
              0.5555555555555556,
              "#d8576b"
             ],
             [
              0.6666666666666666,
              "#ed7953"
             ],
             [
              0.7777777777777778,
              "#fb9f3a"
             ],
             [
              0.8888888888888888,
              "#fdca26"
             ],
             [
              1,
              "#f0f921"
             ]
            ],
            "type": "surface"
           }
          ],
          "table": [
           {
            "cells": {
             "fill": {
              "color": "#EBF0F8"
             },
             "line": {
              "color": "white"
             }
            },
            "header": {
             "fill": {
              "color": "#C8D4E3"
             },
             "line": {
              "color": "white"
             }
            },
            "type": "table"
           }
          ]
         },
         "layout": {
          "annotationdefaults": {
           "arrowcolor": "#2a3f5f",
           "arrowhead": 0,
           "arrowwidth": 1
          },
          "autotypenumbers": "strict",
          "coloraxis": {
           "colorbar": {
            "outlinewidth": 0,
            "ticks": ""
           }
          },
          "colorscale": {
           "diverging": [
            [
             0,
             "#8e0152"
            ],
            [
             0.1,
             "#c51b7d"
            ],
            [
             0.2,
             "#de77ae"
            ],
            [
             0.3,
             "#f1b6da"
            ],
            [
             0.4,
             "#fde0ef"
            ],
            [
             0.5,
             "#f7f7f7"
            ],
            [
             0.6,
             "#e6f5d0"
            ],
            [
             0.7,
             "#b8e186"
            ],
            [
             0.8,
             "#7fbc41"
            ],
            [
             0.9,
             "#4d9221"
            ],
            [
             1,
             "#276419"
            ]
           ],
           "sequential": [
            [
             0,
             "#0d0887"
            ],
            [
             0.1111111111111111,
             "#46039f"
            ],
            [
             0.2222222222222222,
             "#7201a8"
            ],
            [
             0.3333333333333333,
             "#9c179e"
            ],
            [
             0.4444444444444444,
             "#bd3786"
            ],
            [
             0.5555555555555556,
             "#d8576b"
            ],
            [
             0.6666666666666666,
             "#ed7953"
            ],
            [
             0.7777777777777778,
             "#fb9f3a"
            ],
            [
             0.8888888888888888,
             "#fdca26"
            ],
            [
             1,
             "#f0f921"
            ]
           ],
           "sequentialminus": [
            [
             0,
             "#0d0887"
            ],
            [
             0.1111111111111111,
             "#46039f"
            ],
            [
             0.2222222222222222,
             "#7201a8"
            ],
            [
             0.3333333333333333,
             "#9c179e"
            ],
            [
             0.4444444444444444,
             "#bd3786"
            ],
            [
             0.5555555555555556,
             "#d8576b"
            ],
            [
             0.6666666666666666,
             "#ed7953"
            ],
            [
             0.7777777777777778,
             "#fb9f3a"
            ],
            [
             0.8888888888888888,
             "#fdca26"
            ],
            [
             1,
             "#f0f921"
            ]
           ]
          },
          "colorway": [
           "#636efa",
           "#EF553B",
           "#00cc96",
           "#ab63fa",
           "#FFA15A",
           "#19d3f3",
           "#FF6692",
           "#B6E880",
           "#FF97FF",
           "#FECB52"
          ],
          "font": {
           "color": "#2a3f5f"
          },
          "geo": {
           "bgcolor": "white",
           "lakecolor": "white",
           "landcolor": "#E5ECF6",
           "showlakes": true,
           "showland": true,
           "subunitcolor": "white"
          },
          "hoverlabel": {
           "align": "left"
          },
          "hovermode": "closest",
          "mapbox": {
           "style": "light"
          },
          "paper_bgcolor": "white",
          "plot_bgcolor": "#E5ECF6",
          "polar": {
           "angularaxis": {
            "gridcolor": "white",
            "linecolor": "white",
            "ticks": ""
           },
           "bgcolor": "#E5ECF6",
           "radialaxis": {
            "gridcolor": "white",
            "linecolor": "white",
            "ticks": ""
           }
          },
          "scene": {
           "xaxis": {
            "backgroundcolor": "#E5ECF6",
            "gridcolor": "white",
            "gridwidth": 2,
            "linecolor": "white",
            "showbackground": true,
            "ticks": "",
            "zerolinecolor": "white"
           },
           "yaxis": {
            "backgroundcolor": "#E5ECF6",
            "gridcolor": "white",
            "gridwidth": 2,
            "linecolor": "white",
            "showbackground": true,
            "ticks": "",
            "zerolinecolor": "white"
           },
           "zaxis": {
            "backgroundcolor": "#E5ECF6",
            "gridcolor": "white",
            "gridwidth": 2,
            "linecolor": "white",
            "showbackground": true,
            "ticks": "",
            "zerolinecolor": "white"
           }
          },
          "shapedefaults": {
           "line": {
            "color": "#2a3f5f"
           }
          },
          "ternary": {
           "aaxis": {
            "gridcolor": "white",
            "linecolor": "white",
            "ticks": ""
           },
           "baxis": {
            "gridcolor": "white",
            "linecolor": "white",
            "ticks": ""
           },
           "bgcolor": "#E5ECF6",
           "caxis": {
            "gridcolor": "white",
            "linecolor": "white",
            "ticks": ""
           }
          },
          "title": {
           "x": 0.05
          },
          "xaxis": {
           "automargin": true,
           "gridcolor": "white",
           "linecolor": "white",
           "ticks": "",
           "title": {
            "standoff": 15
           },
           "zerolinecolor": "white",
           "zerolinewidth": 2
          },
          "yaxis": {
           "automargin": true,
           "gridcolor": "white",
           "linecolor": "white",
           "ticks": "",
           "title": {
            "standoff": 15
           },
           "zerolinecolor": "white",
           "zerolinewidth": 2
          }
         }
        },
        "title": {
         "text": "Comparación predicciones vrs metas"
        },
        "width": 600,
        "xaxis": {
         "anchor": "y",
         "domain": [
          0,
          1
         ],
         "title": {
          "text": "Predicciones"
         }
        },
        "yaxis": {
         "anchor": "x",
         "domain": [
          0,
          1
         ],
         "title": {
          "text": "Metas"
         }
        }
       }
      }
     },
     "metadata": {},
     "output_type": "display_data"
    }
   ],
   "source": [
    "fig = px.scatter(x = np.squeeze(modelo.predict_on_batch(datos['entradas'])), \n",
    "                 y =  np.squeeze(datos['targets']))\n",
    "\n",
    "fig.update_layout(\n",
    "    title = \"Comparación predicciones vrs metas\",\n",
    "    xaxis_title = \"Predicciones\",\n",
    "    yaxis_title = \"Metas\",\n",
    "    width = 600,\n",
    "    height = 400,)\n",
    "\n",
    "fig.show()"
   ]
  },
  {
   "cell_type": "markdown",
   "metadata": {},
   "source": [
    "Listo, lo que se vé debe ser exactamente igual a lo que se vió en el ejercicio pasado!\n",
    "\n",
    "A estas alturas quizás no se le ve la gracia al TensorFlow.  En términos de líneas código es igual al del ejercicio con NumPy para llegar al mismo resultado.  Sin embargo, a medida que se profundice en el tema, se podrá ver que TensorFlow ahorra cientos de líneas de código."
   ]
  },
  {
   "cell_type": "code",
   "execution_count": 308,
   "metadata": {},
   "outputs": [],
   "source": [
    "X = datos['entradas']\n",
    "y = datos['targets']"
   ]
  },
  {
   "cell_type": "code",
   "execution_count": 309,
   "metadata": {},
   "outputs": [],
   "source": [
    "kf = KFold(n_splits = 3)"
   ]
  },
  {
   "cell_type": "code",
   "execution_count": 310,
   "metadata": {},
   "outputs": [],
   "source": [
    "precisiones = []\n",
    "perdidas = []"
   ]
  },
  {
   "cell_type": "code",
   "execution_count": 323,
   "metadata": {},
   "outputs": [],
   "source": [
    "def precision_umbral(y_true, y_pred, umbral=0.5):\n",
    "    diff = tf.abs(y_true - y_pred)\n",
    "    precisas = tf.cast(diff <= umbral, tf.float32)\n",
    "    return tf.reduce_mean(precisas)"
   ]
  },
  {
   "cell_type": "code",
   "execution_count": 324,
   "metadata": {},
   "outputs": [
    {
     "name": "stdout",
     "output_type": "stream",
     "text": [
      "Iteración 1: Pérdida = 0.38, Precisión = 0.52\n",
      "Iteración 2: Pérdida = 0.37, Precisión = 0.52\n",
      "Iteración 3: Pérdida = 0.33, Precisión = 0.54\n"
     ]
    }
   ],
   "source": [
    "for i, (train_index, val_index) in enumerate(kf.split(X), 1):\n",
    "    X_train, X_val = X[train_index], X[val_index]\n",
    "    y_train, y_val = y[train_index], y[val_index]\n",
    "\n",
    "    modelo = tf.keras.Sequential([\n",
    "        tf.keras.layers.Dense(1, kernel_initializer=tf.random_uniform_initializer(minval=-0.1, maxval=0.1),\n",
    "                               bias_initializer=tf.random_uniform_initializer(minval=-0.1, maxval=0.1))\n",
    "    ])\n",
    "\n",
    "    optimizador_adhoc = tf.keras.optimizers.SGD(learning_rate=0.02)\n",
    "    modelo.compile(optimizer=optimizador_adhoc, loss='mean_squared_error', metrics=[precision_umbral])\n",
    "\n",
    "    modelo.fit(X_train, y_train, epochs=100, verbose=0)\n",
    "\n",
    "    loss, precision = modelo.evaluate(X_val, y_val, verbose=0)\n",
    "\n",
    "    print(f\"Iteración {i}: Pérdida = {loss:.2f}, Precisión = {precision:.2f}\")\n",
    "\n",
    "    perdidas.append(loss)\n",
    "    precisiones.append(precision)"
   ]
  },
  {
   "cell_type": "code",
   "execution_count": 325,
   "metadata": {},
   "outputs": [
    {
     "name": "stdout",
     "output_type": "stream",
     "text": [
      "Métricas de rendimiento durante la validación cruzada:\n",
      "Precisión media: 0.131610577305158\n",
      "Desviación estándar de precisión: 0.2279819908387974\n",
      "Pérdida media: 0.3523204882939657\n",
      "Desviación estándar de pérdida: 0.026526961826111136\n"
     ]
    }
   ],
   "source": [
    "precision_media = np.mean(precisiones)\n",
    "precision_std = np.std(precisiones)\n",
    "pérdida_media = np.mean(perdidas)\n",
    "pérdida_std = np.std(perdidas)\n",
    "\n",
    "print(\"Métricas de rendimiento durante la validación cruzada:\")\n",
    "print(\"Precisión media:\", precision_media)\n",
    "print(\"Desviación estándar de precisión:\", precision_std)\n",
    "print(\"Pérdida media:\", pérdida_media)\n",
    "print(\"Desviación estándar de pérdida:\", pérdida_std)"
   ]
  }
 ],
 "metadata": {
  "kernelspec": {
   "display_name": "Python 3 (ipykernel)",
   "language": "python",
   "name": "python3"
  },
  "language_info": {
   "codemirror_mode": {
    "name": "ipython",
    "version": 3
   },
   "file_extension": ".py",
   "mimetype": "text/x-python",
   "name": "python",
   "nbconvert_exporter": "python",
   "pygments_lexer": "ipython3",
   "version": "3.11.7"
  }
 },
 "nbformat": 4,
 "nbformat_minor": 4
}
